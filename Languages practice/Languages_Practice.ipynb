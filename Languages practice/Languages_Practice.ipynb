{
  "nbformat": 4,
  "nbformat_minor": 0,
  "metadata": {
    "colab": {
      "provenance": []
    },
    "kernelspec": {
      "name": "python3",
      "display_name": "Python 3"
    },
    "language_info": {
      "name": "python"
    }
  },
  "cells": [
    {
      "cell_type": "code",
      "execution_count": null,
      "metadata": {
        "colab": {
          "base_uri": "https://localhost:8080/"
        },
        "id": "I3KFCORV6hY2",
        "outputId": "d72dc167-d2ee-4133-ca16-99b647f27cfc"
      },
      "outputs": [
        {
          "output_type": "stream",
          "name": "stdout",
          "text": [
            "Requirement already satisfied: transformers in /usr/local/lib/python3.12/dist-packages (4.56.1)\n",
            "Requirement already satisfied: torch in /usr/local/lib/python3.12/dist-packages (2.8.0+cu126)\n",
            "Requirement already satisfied: googletrans==4.0.0-rc1 in /usr/local/lib/python3.12/dist-packages (4.0.0rc1)\n",
            "Requirement already satisfied: SpeechRecognition in /usr/local/lib/python3.12/dist-packages (3.14.3)\n",
            "Requirement already satisfied: pydub in /usr/local/lib/python3.12/dist-packages (0.25.1)\n",
            "Requirement already satisfied: httpx==0.13.3 in /usr/local/lib/python3.12/dist-packages (from googletrans==4.0.0-rc1) (0.13.3)\n",
            "Requirement already satisfied: certifi in /usr/local/lib/python3.12/dist-packages (from httpx==0.13.3->googletrans==4.0.0-rc1) (2025.8.3)\n",
            "Requirement already satisfied: hstspreload in /usr/local/lib/python3.12/dist-packages (from httpx==0.13.3->googletrans==4.0.0-rc1) (2025.1.1)\n",
            "Requirement already satisfied: sniffio in /usr/local/lib/python3.12/dist-packages (from httpx==0.13.3->googletrans==4.0.0-rc1) (1.3.1)\n",
            "Requirement already satisfied: chardet==3.* in /usr/local/lib/python3.12/dist-packages (from httpx==0.13.3->googletrans==4.0.0-rc1) (3.0.4)\n",
            "Requirement already satisfied: idna==2.* in /usr/local/lib/python3.12/dist-packages (from httpx==0.13.3->googletrans==4.0.0-rc1) (2.10)\n",
            "Requirement already satisfied: rfc3986<2,>=1.3 in /usr/local/lib/python3.12/dist-packages (from httpx==0.13.3->googletrans==4.0.0-rc1) (1.5.0)\n",
            "Requirement already satisfied: httpcore==0.9.* in /usr/local/lib/python3.12/dist-packages (from httpx==0.13.3->googletrans==4.0.0-rc1) (0.9.1)\n",
            "Requirement already satisfied: h11<0.10,>=0.8 in /usr/local/lib/python3.12/dist-packages (from httpcore==0.9.*->httpx==0.13.3->googletrans==4.0.0-rc1) (0.9.0)\n",
            "Requirement already satisfied: h2==3.* in /usr/local/lib/python3.12/dist-packages (from httpcore==0.9.*->httpx==0.13.3->googletrans==4.0.0-rc1) (3.2.0)\n",
            "Requirement already satisfied: hyperframe<6,>=5.2.0 in /usr/local/lib/python3.12/dist-packages (from h2==3.*->httpcore==0.9.*->httpx==0.13.3->googletrans==4.0.0-rc1) (5.2.0)\n",
            "Requirement already satisfied: hpack<4,>=3.0 in /usr/local/lib/python3.12/dist-packages (from h2==3.*->httpcore==0.9.*->httpx==0.13.3->googletrans==4.0.0-rc1) (3.0.0)\n",
            "Requirement already satisfied: filelock in /usr/local/lib/python3.12/dist-packages (from transformers) (3.19.1)\n",
            "Requirement already satisfied: huggingface-hub<1.0,>=0.34.0 in /usr/local/lib/python3.12/dist-packages (from transformers) (0.34.4)\n",
            "Requirement already satisfied: numpy>=1.17 in /usr/local/lib/python3.12/dist-packages (from transformers) (2.0.2)\n",
            "Requirement already satisfied: packaging>=20.0 in /usr/local/lib/python3.12/dist-packages (from transformers) (25.0)\n",
            "Requirement already satisfied: pyyaml>=5.1 in /usr/local/lib/python3.12/dist-packages (from transformers) (6.0.2)\n",
            "Requirement already satisfied: regex!=2019.12.17 in /usr/local/lib/python3.12/dist-packages (from transformers) (2024.11.6)\n",
            "Requirement already satisfied: requests in /usr/local/lib/python3.12/dist-packages (from transformers) (2.32.4)\n",
            "Requirement already satisfied: tokenizers<=0.23.0,>=0.22.0 in /usr/local/lib/python3.12/dist-packages (from transformers) (0.22.0)\n",
            "Requirement already satisfied: safetensors>=0.4.3 in /usr/local/lib/python3.12/dist-packages (from transformers) (0.6.2)\n",
            "Requirement already satisfied: tqdm>=4.27 in /usr/local/lib/python3.12/dist-packages (from transformers) (4.67.1)\n",
            "Requirement already satisfied: typing-extensions>=4.10.0 in /usr/local/lib/python3.12/dist-packages (from torch) (4.15.0)\n",
            "Requirement already satisfied: setuptools in /usr/local/lib/python3.12/dist-packages (from torch) (75.2.0)\n",
            "Requirement already satisfied: sympy>=1.13.3 in /usr/local/lib/python3.12/dist-packages (from torch) (1.13.3)\n",
            "Requirement already satisfied: networkx in /usr/local/lib/python3.12/dist-packages (from torch) (3.5)\n",
            "Requirement already satisfied: jinja2 in /usr/local/lib/python3.12/dist-packages (from torch) (3.1.6)\n",
            "Requirement already satisfied: fsspec in /usr/local/lib/python3.12/dist-packages (from torch) (2025.3.0)\n",
            "Requirement already satisfied: nvidia-cuda-nvrtc-cu12==12.6.77 in /usr/local/lib/python3.12/dist-packages (from torch) (12.6.77)\n",
            "Requirement already satisfied: nvidia-cuda-runtime-cu12==12.6.77 in /usr/local/lib/python3.12/dist-packages (from torch) (12.6.77)\n",
            "Requirement already satisfied: nvidia-cuda-cupti-cu12==12.6.80 in /usr/local/lib/python3.12/dist-packages (from torch) (12.6.80)\n",
            "Requirement already satisfied: nvidia-cudnn-cu12==9.10.2.21 in /usr/local/lib/python3.12/dist-packages (from torch) (9.10.2.21)\n",
            "Requirement already satisfied: nvidia-cublas-cu12==12.6.4.1 in /usr/local/lib/python3.12/dist-packages (from torch) (12.6.4.1)\n",
            "Requirement already satisfied: nvidia-cufft-cu12==11.3.0.4 in /usr/local/lib/python3.12/dist-packages (from torch) (11.3.0.4)\n",
            "Requirement already satisfied: nvidia-curand-cu12==10.3.7.77 in /usr/local/lib/python3.12/dist-packages (from torch) (10.3.7.77)\n",
            "Requirement already satisfied: nvidia-cusolver-cu12==11.7.1.2 in /usr/local/lib/python3.12/dist-packages (from torch) (11.7.1.2)\n",
            "Requirement already satisfied: nvidia-cusparse-cu12==12.5.4.2 in /usr/local/lib/python3.12/dist-packages (from torch) (12.5.4.2)\n",
            "Requirement already satisfied: nvidia-cusparselt-cu12==0.7.1 in /usr/local/lib/python3.12/dist-packages (from torch) (0.7.1)\n",
            "Requirement already satisfied: nvidia-nccl-cu12==2.27.3 in /usr/local/lib/python3.12/dist-packages (from torch) (2.27.3)\n",
            "Requirement already satisfied: nvidia-nvtx-cu12==12.6.77 in /usr/local/lib/python3.12/dist-packages (from torch) (12.6.77)\n",
            "Requirement already satisfied: nvidia-nvjitlink-cu12==12.6.85 in /usr/local/lib/python3.12/dist-packages (from torch) (12.6.85)\n",
            "Requirement already satisfied: nvidia-cufile-cu12==1.11.1.6 in /usr/local/lib/python3.12/dist-packages (from torch) (1.11.1.6)\n",
            "Requirement already satisfied: triton==3.4.0 in /usr/local/lib/python3.12/dist-packages (from torch) (3.4.0)\n",
            "Requirement already satisfied: hf-xet<2.0.0,>=1.1.3 in /usr/local/lib/python3.12/dist-packages (from huggingface-hub<1.0,>=0.34.0->transformers) (1.1.9)\n",
            "Requirement already satisfied: mpmath<1.4,>=1.1.0 in /usr/local/lib/python3.12/dist-packages (from sympy>=1.13.3->torch) (1.3.0)\n",
            "Requirement already satisfied: MarkupSafe>=2.0 in /usr/local/lib/python3.12/dist-packages (from jinja2->torch) (3.0.2)\n",
            "Requirement already satisfied: charset_normalizer<4,>=2 in /usr/local/lib/python3.12/dist-packages (from requests->transformers) (3.4.3)\n",
            "Requirement already satisfied: urllib3<3,>=1.21.1 in /usr/local/lib/python3.12/dist-packages (from requests->transformers) (2.5.0)\n"
          ]
        }
      ],
      "source": [
        "# 1️⃣ تثبيت المكتبات\n",
        "!pip install transformers torch googletrans==4.0.0-rc1 SpeechRecognition pydub\n",
        "\n"
      ]
    },
    {
      "cell_type": "code",
      "source": [
        "# 2️⃣ استيراد المكتبات\n",
        "import difflib\n",
        "import os\n",
        "from transformers import pipeline\n",
        "from googletrans import Translator\n",
        "import speech_recognition as sr\n",
        "from pydub import AudioSegment\n",
        "from google.colab import files\n",
        "from IPython.display import display, Markdown\n"
      ],
      "metadata": {
        "id": "3-ZJjGM96jmx"
      },
      "execution_count": null,
      "outputs": []
    },
    {
      "cell_type": "code",
      "source": [
        "# 3️⃣ تحميل الموديلات\n",
        "display(Markdown(\"⏳ جاري تحميل موديل تصحيح الجرامر...\"))\n",
        "corrector = pipeline(\n",
        "    \"text2text-generation\",\n",
        "    model=\"vennify/t5-base-grammar-correction\"\n",
        ")\n",
        "\n",
        "chatbot = pipeline(\"text-generation\", model=\"microsoft/DialoGPT-medium\")\n",
        "translator = Translator()"
      ],
      "metadata": {
        "colab": {
          "base_uri": "https://localhost:8080/",
          "height": 82
        },
        "id": "jpJ26Yaa6xkl",
        "outputId": "e385b65d-518b-40e9-9f14-db2bbcf918de"
      },
      "execution_count": null,
      "outputs": [
        {
          "output_type": "display_data",
          "data": {
            "text/plain": [
              "<IPython.core.display.Markdown object>"
            ],
            "text/markdown": "⏳ جاري تحميل موديل تصحيح الجرامر..."
          },
          "metadata": {}
        },
        {
          "output_type": "stream",
          "name": "stderr",
          "text": [
            "Device set to use cpu\n",
            "Device set to use cpu\n"
          ]
        }
      ]
    },
    {
      "cell_type": "code",
      "source": [
        "# 4️⃣ الدوال المساعدة\n",
        "\n",
        "def correct_sentence(sentence, lang=\"en\"):\n",
        "    if lang.lower().startswith(\"en\"):\n",
        "        result = corrector(sentence, max_length=100, num_return_sequences=1)\n",
        "        return result[0]['generated_text']\n",
        "    else:\n",
        "        return sentence\n",
        "\n",
        "def find_wrong_words(original, corrected):\n",
        "    diff = difflib.ndiff(original.split(), corrected.split())\n",
        "    wrong_words = [word[2:] for word in diff if word.startswith(\"- \")]\n",
        "    return wrong_words\n",
        "\n",
        "def general_question(question, dest_lang=\"ar\"):\n",
        "    return translator.translate(question, dest=dest_lang).text\n",
        "\n",
        "def audio_to_text(file_path, lang=\"en\"):\n",
        "    recognizer = sr.Recognizer()\n",
        "    wav_path = file_path.rsplit('.',1)[0] + \".wav\"\n",
        "    try:\n",
        "        sound = AudioSegment.from_file(file_path)\n",
        "        sound.export(wav_path, format=\"wav\")\n",
        "    except:\n",
        "        return \"❌ خطأ في تحويل ملف الصوت\"\n",
        "\n",
        "    with sr.AudioFile(wav_path) as source:\n",
        "        audio = recognizer.record(source)\n",
        "    try:\n",
        "        text = recognizer.recognize_google(audio, language=lang)\n",
        "        return text\n",
        "    except sr.UnknownValueError:\n",
        "        return \"❌ لم يتم التعرف على الكلام\"\n",
        "    except sr.RequestError:\n",
        "        return \"❌ مشكلة في الاتصال بخدمة Google\"\n",
        "    finally:\n",
        "        if os.path.exists(wav_path):\n",
        "            os.remove(wav_path)\n",
        "\n",
        "def chat_mode():\n",
        "    print(\"💬 دخلنا في المحادثة الحرة. اكتب رسالتك (للخروج اكتب exit).\")\n",
        "    history = \"\"\n",
        "    while True:\n",
        "        user_msg = input(\"👤 انت: \")\n",
        "        if user_msg.lower() in [\"exit\", \"خروج\", \"quit\"]:\n",
        "            print(\"👋 انتهاء المحادثة.\")\n",
        "            break\n",
        "\n",
        "        # بناء السياق\n",
        "        history += f\"\\nUser: {user_msg}\\nBot:\"\n",
        "\n",
        "        # توليد الرد\n",
        "        result = chatbot(\n",
        "            history,\n",
        "            max_new_tokens=150,   # استخدام max_new_tokens فقط\n",
        "            pad_token_id=50256,\n",
        "            do_sample=True,\n",
        "            top_k=50,\n",
        "            top_p=0.95,\n",
        "            temperature=0.7\n",
        "        )\n",
        "\n",
        "        # استخراج الرد بدون تكرار\n",
        "        generated_text = result[0][\"generated_text\"]\n",
        "        reply = generated_text.split(\"Bot:\")[-1].strip()\n",
        "\n",
        "        print(\"🤖 البوت:\", reply)\n",
        "\n",
        "        # تحديث التاريخ\n",
        "        history += f\" {reply}\"\n",
        "\n"
      ],
      "metadata": {
        "id": "pTUDB_3b61_4"
      },
      "execution_count": null,
      "outputs": []
    },
    {
      "cell_type": "code",
      "source": [
        "# 5️⃣ البوت الرئيسي\n",
        "def language_practice_bot():\n",
        "    display(Markdown(\"👋 **أهلاً! أنا البوت اللغوي متعدد اللغات.**\"))\n",
        "    display(Markdown(\"🟢 تقدر:\"))\n",
        "    display(Markdown(\"1️⃣ تكتب جملة للتصحيح\"))\n",
        "    display(Markdown(\"2️⃣ ترفع ملف صوت للتحويل + التصحيح\"))\n",
        "    display(Markdown(\"3️⃣ تسأل سؤال عام (معاني / ترجمة / قواعد)\"))\n",
        "    display(Markdown(\"4️⃣ تدخل في محادثة حرة مع البوت (أي موضوع)\"))\n",
        "    display(Markdown(\"لو عايز تخرج اكتب: `exit`\"))\n",
        "\n",
        "    while True:\n",
        "        mode = input(\"\\nاختر الوضع (1/2/3/4): \")\n",
        "\n",
        "        if mode in [\"خروج\", \"exit\", \"quit\"]:\n",
        "            display(Markdown(\"👋 **باي باي! استمر في التدريب 🎉**\"))\n",
        "            break\n",
        "\n",
        "        elif mode == \"1\":\n",
        "            lang = input(\"🌐 اختر لغة الإدخال (مثال en / ar / fr): \")\n",
        "            user_input = input(\"✏️ اكتب جملتك: \")\n",
        "            corrected = correct_sentence(user_input, lang)\n",
        "            wrong = find_wrong_words(user_input, corrected)\n",
        "            display(Markdown(f\"✅ النص المصحح: {corrected}\"))\n",
        "            if wrong:\n",
        "                display(Markdown(f\"⚠️ كلمات محتاجة تعديل: {', '.join(wrong)}\"))\n",
        "\n",
        "        elif mode == \"2\":\n",
        "            lang = input(\"🌐 اختر لغة الإدخال (مثال en / ar): \")\n",
        "            uploaded = files.upload()\n",
        "            filename = next(iter(uploaded))\n",
        "            spoken_text = audio_to_text(filename, lang)\n",
        "            print(\"📝 النص:\", spoken_text)\n",
        "            if \"❌\" not in spoken_text:\n",
        "                corrected = correct_sentence(spoken_text, lang)\n",
        "                wrong = find_wrong_words(spoken_text, corrected)\n",
        "                display(Markdown(f\"✅ النص بعد التصحيح: {corrected}\"))\n",
        "                if wrong:\n",
        "                    display(Markdown(f\"⚠️ كلمات اتقالت غلط: {', '.join(wrong)}\"))\n",
        "            os.remove(filename)\n",
        "\n",
        "        elif mode == \"3\":\n",
        "            q = input(\"❓ اكتب سؤالك: \")\n",
        "            dest = input(\"🌐 اختر لغة الإجابة (افتراضي ar): \") or \"ar\"\n",
        "            answer = general_question(q, dest)\n",
        "            display(Markdown(f\"📖 الإجابة: {answer}\"))\n",
        "\n",
        "        elif mode == \"4\":\n",
        "            chat_mode()\n",
        "\n",
        "        else:\n",
        "            print(\"❌ اختيار غير صحيح.\")\n",
        "\n",
        "\n",
        "\n",
        "\n",
        "# 6️⃣ تشغيل البوت\n",
        "\n",
        "language_practice_bot()"
      ],
      "metadata": {
        "colab": {
          "base_uri": "https://localhost:8080/",
          "height": 1000
        },
        "id": "q6An5_dy7JwC",
        "outputId": "230db7c8-9722-4952-bd9e-81e0188ec452"
      },
      "execution_count": null,
      "outputs": [
        {
          "output_type": "display_data",
          "data": {
            "text/plain": [
              "<IPython.core.display.Markdown object>"
            ],
            "text/markdown": "👋 **أهلاً! أنا البوت اللغوي متعدد اللغات.**"
          },
          "metadata": {}
        },
        {
          "output_type": "display_data",
          "data": {
            "text/plain": [
              "<IPython.core.display.Markdown object>"
            ],
            "text/markdown": "🟢 تقدر:"
          },
          "metadata": {}
        },
        {
          "output_type": "display_data",
          "data": {
            "text/plain": [
              "<IPython.core.display.Markdown object>"
            ],
            "text/markdown": "1️⃣ تكتب جملة للتصحيح"
          },
          "metadata": {}
        },
        {
          "output_type": "display_data",
          "data": {
            "text/plain": [
              "<IPython.core.display.Markdown object>"
            ],
            "text/markdown": "2️⃣ ترفع ملف صوت للتحويل + التصحيح"
          },
          "metadata": {}
        },
        {
          "output_type": "display_data",
          "data": {
            "text/plain": [
              "<IPython.core.display.Markdown object>"
            ],
            "text/markdown": "3️⃣ تسأل سؤال عام (معاني / ترجمة / قواعد)"
          },
          "metadata": {}
        },
        {
          "output_type": "display_data",
          "data": {
            "text/plain": [
              "<IPython.core.display.Markdown object>"
            ],
            "text/markdown": "4️⃣ تدخل في محادثة حرة مع البوت (أي موضوع)"
          },
          "metadata": {}
        },
        {
          "output_type": "display_data",
          "data": {
            "text/plain": [
              "<IPython.core.display.Markdown object>"
            ],
            "text/markdown": "لو عايز تخرج اكتب: `exit`"
          },
          "metadata": {}
        },
        {
          "name": "stdout",
          "output_type": "stream",
          "text": [
            "\n",
            "اختر الوضع (1/2/3/4): 4\n",
            "💬 دخلنا في المحادثة الحرة. اكتب رسالتك (للخروج اكتب exit).\n",
            "👤 انت: how are you\n",
            "🤖 البوت: I'm good.\n",
            "👤 انت: What is your favorite food?\n",
            "🤖 البوت: Chicken\n",
            "👤 انت: 1\n",
            "🤖 البوت: \n",
            "👤 انت: exit\n",
            "👋 انتهاء المحادثة.\n",
            "\n",
            "اختر الوضع (1/2/3/4): 1\n",
            "🌐 اختر لغة الإدخال (مثال en / ar / fr): en\n",
            "✏️ اكتب جملتك: how is you fined\n"
          ]
        },
        {
          "output_type": "stream",
          "name": "stderr",
          "text": [
            "Both `max_new_tokens` (=256) and `max_length`(=100) seem to have been set. `max_new_tokens` will take precedence. Please refer to the documentation for more information. (https://huggingface.co/docs/transformers/main/en/main_classes/text_generation)\n"
          ]
        },
        {
          "output_type": "display_data",
          "data": {
            "text/plain": [
              "<IPython.core.display.Markdown object>"
            ],
            "text/markdown": "✅ النص المصحح: How are you fined?"
          },
          "metadata": {}
        },
        {
          "output_type": "display_data",
          "data": {
            "text/plain": [
              "<IPython.core.display.Markdown object>"
            ],
            "text/markdown": "⚠️ كلمات محتاجة تعديل: how, is, fined"
          },
          "metadata": {}
        },
        {
          "name": "stdout",
          "output_type": "stream",
          "text": [
            "\n",
            "اختر الوضع (1/2/3/4): 2\n",
            "🌐 اختر لغة الإدخال (مثال en / ar): ar\n"
          ]
        },
        {
          "output_type": "display_data",
          "data": {
            "text/plain": [
              "<IPython.core.display.HTML object>"
            ],
            "text/html": [
              "\n",
              "     <input type=\"file\" id=\"files-0f0ffe4c-2c99-47cd-ab4b-c475b6f55aa3\" name=\"files[]\" multiple disabled\n",
              "        style=\"border:none\" />\n",
              "     <output id=\"result-0f0ffe4c-2c99-47cd-ab4b-c475b6f55aa3\">\n",
              "      Upload widget is only available when the cell has been executed in the\n",
              "      current browser session. Please rerun this cell to enable.\n",
              "      </output>\n",
              "      <script>// Copyright 2017 Google LLC\n",
              "//\n",
              "// Licensed under the Apache License, Version 2.0 (the \"License\");\n",
              "// you may not use this file except in compliance with the License.\n",
              "// You may obtain a copy of the License at\n",
              "//\n",
              "//      http://www.apache.org/licenses/LICENSE-2.0\n",
              "//\n",
              "// Unless required by applicable law or agreed to in writing, software\n",
              "// distributed under the License is distributed on an \"AS IS\" BASIS,\n",
              "// WITHOUT WARRANTIES OR CONDITIONS OF ANY KIND, either express or implied.\n",
              "// See the License for the specific language governing permissions and\n",
              "// limitations under the License.\n",
              "\n",
              "/**\n",
              " * @fileoverview Helpers for google.colab Python module.\n",
              " */\n",
              "(function(scope) {\n",
              "function span(text, styleAttributes = {}) {\n",
              "  const element = document.createElement('span');\n",
              "  element.textContent = text;\n",
              "  for (const key of Object.keys(styleAttributes)) {\n",
              "    element.style[key] = styleAttributes[key];\n",
              "  }\n",
              "  return element;\n",
              "}\n",
              "\n",
              "// Max number of bytes which will be uploaded at a time.\n",
              "const MAX_PAYLOAD_SIZE = 100 * 1024;\n",
              "\n",
              "function _uploadFiles(inputId, outputId) {\n",
              "  const steps = uploadFilesStep(inputId, outputId);\n",
              "  const outputElement = document.getElementById(outputId);\n",
              "  // Cache steps on the outputElement to make it available for the next call\n",
              "  // to uploadFilesContinue from Python.\n",
              "  outputElement.steps = steps;\n",
              "\n",
              "  return _uploadFilesContinue(outputId);\n",
              "}\n",
              "\n",
              "// This is roughly an async generator (not supported in the browser yet),\n",
              "// where there are multiple asynchronous steps and the Python side is going\n",
              "// to poll for completion of each step.\n",
              "// This uses a Promise to block the python side on completion of each step,\n",
              "// then passes the result of the previous step as the input to the next step.\n",
              "function _uploadFilesContinue(outputId) {\n",
              "  const outputElement = document.getElementById(outputId);\n",
              "  const steps = outputElement.steps;\n",
              "\n",
              "  const next = steps.next(outputElement.lastPromiseValue);\n",
              "  return Promise.resolve(next.value.promise).then((value) => {\n",
              "    // Cache the last promise value to make it available to the next\n",
              "    // step of the generator.\n",
              "    outputElement.lastPromiseValue = value;\n",
              "    return next.value.response;\n",
              "  });\n",
              "}\n",
              "\n",
              "/**\n",
              " * Generator function which is called between each async step of the upload\n",
              " * process.\n",
              " * @param {string} inputId Element ID of the input file picker element.\n",
              " * @param {string} outputId Element ID of the output display.\n",
              " * @return {!Iterable<!Object>} Iterable of next steps.\n",
              " */\n",
              "function* uploadFilesStep(inputId, outputId) {\n",
              "  const inputElement = document.getElementById(inputId);\n",
              "  inputElement.disabled = false;\n",
              "\n",
              "  const outputElement = document.getElementById(outputId);\n",
              "  outputElement.innerHTML = '';\n",
              "\n",
              "  const pickedPromise = new Promise((resolve) => {\n",
              "    inputElement.addEventListener('change', (e) => {\n",
              "      resolve(e.target.files);\n",
              "    });\n",
              "  });\n",
              "\n",
              "  const cancel = document.createElement('button');\n",
              "  inputElement.parentElement.appendChild(cancel);\n",
              "  cancel.textContent = 'Cancel upload';\n",
              "  const cancelPromise = new Promise((resolve) => {\n",
              "    cancel.onclick = () => {\n",
              "      resolve(null);\n",
              "    };\n",
              "  });\n",
              "\n",
              "  // Wait for the user to pick the files.\n",
              "  const files = yield {\n",
              "    promise: Promise.race([pickedPromise, cancelPromise]),\n",
              "    response: {\n",
              "      action: 'starting',\n",
              "    }\n",
              "  };\n",
              "\n",
              "  cancel.remove();\n",
              "\n",
              "  // Disable the input element since further picks are not allowed.\n",
              "  inputElement.disabled = true;\n",
              "\n",
              "  if (!files) {\n",
              "    return {\n",
              "      response: {\n",
              "        action: 'complete',\n",
              "      }\n",
              "    };\n",
              "  }\n",
              "\n",
              "  for (const file of files) {\n",
              "    const li = document.createElement('li');\n",
              "    li.append(span(file.name, {fontWeight: 'bold'}));\n",
              "    li.append(span(\n",
              "        `(${file.type || 'n/a'}) - ${file.size} bytes, ` +\n",
              "        `last modified: ${\n",
              "            file.lastModifiedDate ? file.lastModifiedDate.toLocaleDateString() :\n",
              "                                    'n/a'} - `));\n",
              "    const percent = span('0% done');\n",
              "    li.appendChild(percent);\n",
              "\n",
              "    outputElement.appendChild(li);\n",
              "\n",
              "    const fileDataPromise = new Promise((resolve) => {\n",
              "      const reader = new FileReader();\n",
              "      reader.onload = (e) => {\n",
              "        resolve(e.target.result);\n",
              "      };\n",
              "      reader.readAsArrayBuffer(file);\n",
              "    });\n",
              "    // Wait for the data to be ready.\n",
              "    let fileData = yield {\n",
              "      promise: fileDataPromise,\n",
              "      response: {\n",
              "        action: 'continue',\n",
              "      }\n",
              "    };\n",
              "\n",
              "    // Use a chunked sending to avoid message size limits. See b/62115660.\n",
              "    let position = 0;\n",
              "    do {\n",
              "      const length = Math.min(fileData.byteLength - position, MAX_PAYLOAD_SIZE);\n",
              "      const chunk = new Uint8Array(fileData, position, length);\n",
              "      position += length;\n",
              "\n",
              "      const base64 = btoa(String.fromCharCode.apply(null, chunk));\n",
              "      yield {\n",
              "        response: {\n",
              "          action: 'append',\n",
              "          file: file.name,\n",
              "          data: base64,\n",
              "        },\n",
              "      };\n",
              "\n",
              "      let percentDone = fileData.byteLength === 0 ?\n",
              "          100 :\n",
              "          Math.round((position / fileData.byteLength) * 100);\n",
              "      percent.textContent = `${percentDone}% done`;\n",
              "\n",
              "    } while (position < fileData.byteLength);\n",
              "  }\n",
              "\n",
              "  // All done.\n",
              "  yield {\n",
              "    response: {\n",
              "      action: 'complete',\n",
              "    }\n",
              "  };\n",
              "}\n",
              "\n",
              "scope.google = scope.google || {};\n",
              "scope.google.colab = scope.google.colab || {};\n",
              "scope.google.colab._files = {\n",
              "  _uploadFiles,\n",
              "  _uploadFilesContinue,\n",
              "};\n",
              "})(self);\n",
              "</script> "
            ]
          },
          "metadata": {}
        },
        {
          "output_type": "stream",
          "name": "stdout",
          "text": [
            "Saving WhatsApp Audio 2025-09-10 at 23.34.41_583f733a.waptt.opus to WhatsApp Audio 2025-09-10 at 23.34.41_583f733a.waptt.opus\n",
            "📝 النص: تمام وبكره انا يعني بكره هشتغل وابدا في اي اي\n"
          ]
        },
        {
          "output_type": "display_data",
          "data": {
            "text/plain": [
              "<IPython.core.display.Markdown object>"
            ],
            "text/markdown": "✅ النص بعد التصحيح: تمام وبكره انا يعني بكره هشتغل وابدا في اي اي"
          },
          "metadata": {}
        },
        {
          "name": "stdout",
          "output_type": "stream",
          "text": [
            "\n",
            "اختر الوضع (1/2/3/4): 3\n",
            "❓ اكتب سؤالك: تفاحة بالفرنساوى \n",
            "🌐 اختر لغة الإجابة (افتراضي ar): ar\n"
          ]
        },
        {
          "output_type": "display_data",
          "data": {
            "text/plain": [
              "<IPython.core.display.Markdown object>"
            ],
            "text/markdown": "📖 الإجابة: تفاحة بالفرنساوى"
          },
          "metadata": {}
        },
        {
          "name": "stdout",
          "output_type": "stream",
          "text": [
            "\n",
            "اختر الوضع (1/2/3/4): 3\n",
            "❓ اكتب سؤالك: apple\n",
            "🌐 اختر لغة الإجابة (افتراضي ar): en\n"
          ]
        },
        {
          "output_type": "display_data",
          "data": {
            "text/plain": [
              "<IPython.core.display.Markdown object>"
            ],
            "text/markdown": "📖 الإجابة: apple"
          },
          "metadata": {}
        },
        {
          "name": "stdout",
          "output_type": "stream",
          "text": [
            "\n",
            "اختر الوضع (1/2/3/4): 3\n",
            "❓ اكتب سؤالك: apple\n",
            "🌐 اختر لغة الإجابة (افتراضي ar): fr\n"
          ]
        },
        {
          "output_type": "display_data",
          "data": {
            "text/plain": [
              "<IPython.core.display.Markdown object>"
            ],
            "text/markdown": "📖 الإجابة: pomme"
          },
          "metadata": {}
        },
        {
          "name": "stdout",
          "output_type": "stream",
          "text": [
            "\n",
            "اختر الوضع (1/2/3/4): exit\n"
          ]
        },
        {
          "output_type": "display_data",
          "data": {
            "text/plain": [
              "<IPython.core.display.Markdown object>"
            ],
            "text/markdown": "👋 **باي باي! استمر في التدريب 🎉**"
          },
          "metadata": {}
        }
      ]
    }
  ]
}